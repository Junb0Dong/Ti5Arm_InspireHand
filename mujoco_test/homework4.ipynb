{
 "cells": [
  {
   "cell_type": "markdown",
   "metadata": {},
   "source": [
    "# Homework 4"
   ]
  },
  {
   "cell_type": "markdown",
   "metadata": {},
   "source": [
    "## v0.2"
   ]
  },
  {
   "cell_type": "code",
   "execution_count": null,
   "metadata": {},
   "outputs": [],
   "source": [
    "import numpy as np\n",
    "import mujoco\n",
    "import mujoco.viewer as viewer\n",
    "import modern_robotics as mr\n",
    "\n",
    "xml=\"\"\"<mujoco model=\"3R_spatial\">\n",
    "    <option gravity=\"0 0 0\"/>\n",
    "    <compiler angle=\"degree\"/>\n",
    "    <asset>  \n",
    "        <texture name=\"grid\" type=\"2d\" builtin=\"checker\" rgb1=\".1 .2 .3\"\n",
    "                 rgb2=\".2 .3 .4\" width=\"300\" height=\"300\" mark=\"none\"/>\n",
    "        <material name=\"grid\" texture=\"grid\" texrepeat=\"6 6\" texuniform=\"true\" reflectance=\".2\"/>\n",
    "    </asset>\n",
    "    <default>\n",
    "        <joint type=\"hinge\" axis=\"0 0 1\" limited=\"true\"/>\n",
    "        <geom type=\"cylinder\" size=\".025 .2\" pos=\"0 0 0\"/>\n",
    "    </default>\n",
    "\n",
    "    <worldbody>\n",
    "        <light diffuse=\".5 .5 .5\" pos=\"0 0 3\" dir=\"0 0 -1\"/>\n",
    "        <geom type=\"plane\" size=\"1 1 0.1\" material=\"grid\"/>  \n",
    "        <body name=\"link1\" pos=\"0 0 .3\">\n",
    "            <joint name=\"joint1\" pos=\"0 0 0\" range=\"-180 180\" axis=\"0 0 1\" damping=\"0.1\"/>\n",
    "            <geom pos=\"0 0 0\" rgba=\".6 .2 .2 1\" size=\".0125 .3\"/>\n",
    "            <geom pos=\"0 0 0\" rgba=\".6 .2 .2 1\" size=\".025 .1\"/>\n",
    "            <geom name=\"fix1\" pos=\".1 0 0\" euler=\"0 90 0\" size=\".0125 .1\" rgba=\".2 .6 1 1\"/>\n",
    "            <body name=\"link2\" pos=\".2 0 0\" euler=\"90 0 -90\">\n",
    "                <joint name=\"joint2\" pos=\"0 0 0\" range=\"0 180\" axis=\"0 0 1\" damping=\"0.1\"/>\n",
    "                <geom pos=\"0 0 0\" rgba=\".6 .2 .2 1\" size=\".0125 .3\"/>\n",
    "                <geom pos=\"0 0 0\" rgba=\".6 .2 .2 1\" size=\".025 .1\"/>\n",
    "                <geom name=\"fix2\" pos=\".1 0 0\" euler=\"0 90 0\" size=\".0125 .1\" rgba=\".2 .6 1 1\"/>\n",
    "                <body name=\"link3\" pos=\".2 0 0\" euler=\"-90 0 0\">\n",
    "                    <joint name=\"joint3\" pos=\"0 0 0\" range=\"-90 90\" axis=\"0 0 1\" damping=\"0.1\"/>\n",
    "                    <geom pos=\"0 0 0\" rgba=\".6 .2 .2 1\" size=\".0125 .15\"/>\n",
    "                    <geom pos=\"0 0 0\" rgba=\".6 .2 .2 1\" size=\".025 .05\"/>\n",
    "                    <site name=\"end_effector\" pos=\"0 0 0\" size=\"0.001\" rgba=\"0 1 0 1\"/>\n",
    "                </body>\n",
    "            </body>\n",
    "        </body>\n",
    "    </worldbody>\n",
    "\n",
    "\n",
    "    <actuator>\n",
    "        <position name=\"position_control1\" joint=\"joint1\" kp=\".8\" kv=\"0.02\" ctrlrange=\"-3.1416 3.1416\"/>\n",
    "        <position name=\"position_control2\" joint=\"joint2\" kp=\".8\" kv=\"0.02\" ctrlrange=\"0 3.1416\"/>\n",
    "        <position name=\"position_control3\" joint=\"joint3\" kp=\".8\" kv=\"0.02\" ctrlrange=\"-1.5708 1.5708\"/>\n",
    "    </actuator>\n",
    "    \n",
    "    <sensor>\n",
    "        <jointpos name=\"joint1_position_sensor\" joint=\"joint1\"/>\n",
    "        <jointpos name=\"joint2_position_sensor\" joint=\"joint2\"/>\n",
    "        <jointpos name=\"joint3_position_sensor\" joint=\"joint3\"/>\n",
    "    </sensor>\n",
    "    \n",
    "\n",
    "\n",
    "</mujoco>\"\"\"\n",
    "\n",
    "\n",
    "# load\n",
    "model = mujoco.MjModel.from_xml_string(xml)\n",
    "data = mujoco.MjData(model)\n",
    "# mujoco.mj_resetDataKeyframe(model, data, 0)\n",
    "# viewer.launch(model,data)"
   ]
  },
  {
   "cell_type": "code",
   "execution_count": 3,
   "metadata": {},
   "outputs": [],
   "source": [
    "# 向量化 NearZero 函数并应用于数组\n",
    "NearZero_vec = np.vectorize(mr.NearZero)"
   ]
  },
  {
   "cell_type": "code",
   "execution_count": 4,
   "metadata": {},
   "outputs": [],
   "source": [
    "# 获取链接位置和旋转矩阵的函数\n",
    "def get_link_pose(model, data, link_name):\n",
    "    try:\n",
    "        link_id = mujoco.mj_name2id(model, mujoco.mjtObj.mjOBJ_BODY, link_name)\n",
    "        position = data.xpos[link_id]\n",
    "        rotation_matrix = data.xmat[link_id].reshape(3, 3)\n",
    "        print(f\"{link_name} 位置（position）:\", position)\n",
    "        print(f\"{link_name} 旋转矩阵（rotation_matrix）:\\n\", rotation_matrix, \"\\n\")\n",
    "        return position, rotation_matrix\n",
    "    except Exception as e:\n",
    "        print(f\"Error accessing {link_name}:\", e)\n",
    "        return None, None"
   ]
  },
  {
   "cell_type": "code",
   "execution_count": 5,
   "metadata": {},
   "outputs": [],
   "source": [
    "# 定义正向运动学的初始参数\n",
    "M = np.array([[0, 0, 1, 0.2],\n",
    "              [0, 1, 0, 0],\n",
    "              [-1, 0, 0, 0.1],\n",
    "              [0, 0, 0, 1]])\n",
    "Blist = np.array([[ 0, 0, 0, 0, 0, 1],\n",
    "                  [0.3, 0, -0.2, 0, -1, 0,],\n",
    "                  [ 0, 0.1, 0 ,1, 0, 0]]).T"
   ]
  },
  {
   "cell_type": "code",
   "execution_count": 10,
   "metadata": {},
   "outputs": [],
   "source": [
    "mujoco.mj_resetDataKeyframe(model, data, 0)\n",
    "viewer.launch(model,data)"
   ]
  },
  {
   "cell_type": "code",
   "execution_count": 170,
   "metadata": {},
   "outputs": [
    {
     "name": "stdout",
     "output_type": "stream",
     "text": [
      "link1 位置（position）: [0.  0.  0.3]\n",
      "link1 旋转矩阵（rotation_matrix）:\n",
      " [[ 0.79  -0.613  0.   ]\n",
      " [ 0.613  0.79   0.   ]\n",
      " [ 0.     0.     1.   ]] \n",
      "\n",
      "link2 位置（position）: [0.158 0.123 0.3  ]\n",
      "link2 旋转矩阵（rotation_matrix）:\n",
      " [[ 0.     0.79   0.613]\n",
      " [ 0.     0.613 -0.79 ]\n",
      " [-1.     0.     0.   ]] \n",
      "\n",
      "link3 位置（position）: [0.158 0.123 0.1  ]\n",
      "link3 旋转矩阵（rotation_matrix）:\n",
      " [[ 0.    -0.613  0.79 ]\n",
      " [ 0.     0.79   0.613]\n",
      " [-1.     0.     0.   ]] \n",
      "\n"
     ]
    },
    {
     "data": {
      "text/plain": [
       "(array([0.158, 0.123, 0.1  ]),\n",
       " array([[ 0.   , -0.613,  0.79 ],\n",
       "        [ 0.   ,  0.79 ,  0.613],\n",
       "        [-1.   ,  0.   ,  0.   ]]))"
      ]
     },
     "execution_count": 170,
     "metadata": {},
     "output_type": "execute_result"
    }
   ],
   "source": [
    "# mujoco.mj_step(model, data)\n",
    "np.set_printoptions(suppress=True, precision=3)\n",
    "# 打印 link1, link2, link3 的位置信息和旋转矩阵\n",
    "get_link_pose(model, data, \"link1\")\n",
    "get_link_pose(model, data, \"link2\")\n",
    "get_link_pose(model, data, \"link3\")"
   ]
  },
  {
   "cell_type": "code",
   "execution_count": 133,
   "metadata": {},
   "outputs": [
    {
     "name": "stdout",
     "output_type": "stream",
     "text": [
      "theta1: [0.817] \n",
      "\n"
     ]
    },
    {
     "data": {
      "text/plain": [
       "array([[ 0.684, -0.729,  0.   ,  0.   ],\n",
       "       [ 0.729,  0.684,  0.   ,  0.   ],\n",
       "       [ 0.   ,  0.   ,  1.   ,  0.3  ],\n",
       "       [ 0.   ,  0.   ,  0.   ,  1.   ]])"
      ]
     },
     "execution_count": 133,
     "metadata": {},
     "output_type": "execute_result"
    }
   ],
   "source": [
    "# jiont1\n",
    "M1 = np.array([[1, 0, 0, 0],\n",
    "              [0, 1, 0, 0],\n",
    "              [0, 0, 1, 0.3],\n",
    "              [0, 0, 0, 1]])\n",
    "Blist1 = np.array([[0, 0, 1, 0, 0, 0]]).T\n",
    "theta1 = data.qpos[:1]\n",
    "print(\"theta1:\",theta1,'\\n')\n",
    "mr.FKinBody(M1, Blist1, theta1)"
   ]
  },
  {
   "cell_type": "code",
   "execution_count": 138,
   "metadata": {},
   "outputs": [
    {
     "name": "stdout",
     "output_type": "stream",
     "text": [
      "theta2: [0.817 0.   ] \n",
      "\n"
     ]
    },
    {
     "data": {
      "text/plain": [
       "array([[ 0.729,  0.684,  0.   ,  0.2  ],\n",
       "       [ 0.   ,  0.   , -1.   ,  0.   ],\n",
       "       [-0.684,  0.729,  0.   ,  0.3  ],\n",
       "       [ 0.   ,  0.   ,  0.   ,  1.   ]])"
      ]
     },
     "execution_count": 138,
     "metadata": {},
     "output_type": "execute_result"
    }
   ],
   "source": [
    "# jiont2\n",
    "M2 = np.array([[0, 1, 0, 0.2],\n",
    "              [0, 0, -1, 0],\n",
    "              [-1, 0, 0, 0.3],\n",
    "              [0, 0, 0, 1]])\n",
    "Blist2 = np.array([[0, 0, 1, 0, 0, 0],\n",
    "                   [0, -1, 0, 0.3, 0, -0.2]]).T\n",
    "theta2 = data.qpos[:2] \n",
    "print(\"theta2:\",theta2,'\\n')\n",
    "mr.FKinBody(M2, Blist2, theta2)"
   ]
  },
  {
   "cell_type": "code",
   "execution_count": 171,
   "metadata": {},
   "outputs": [
    {
     "name": "stdout",
     "output_type": "stream",
     "text": [
      "末端执行器位置（position）: [0.158 0.123 0.1  ]\n",
      "末端执行器旋转矩阵（rotation_matrix）:\n",
      " [[ 0.    -0.613  0.79 ]\n",
      " [ 0.     0.79   0.613]\n",
      " [-1.     0.     0.   ]]\n",
      "\n",
      "theta: [0.66 0.   0.  ]\n",
      "\n",
      "Kinematic position of end-effector in base frame: \n",
      "[[ 0.    0.    1.    0.2 ]\n",
      " [ 0.    1.    0.   -0.  ]\n",
      " [-1.    0.    0.    0.76]\n",
      " [ 0.    0.    0.    1.  ]]\n"
     ]
    }
   ],
   "source": [
    "# 获取并打印末端执行器的位置和旋转矩阵\n",
    "try:\n",
    "    site_id = mujoco.mj_name2id(model, mujoco.mjtObj.mjOBJ_SITE, \"end_effector\")\n",
    "    position = data.site_xpos[site_id]\n",
    "    rotation_matrix = data.site_xmat[site_id].reshape(3, 3)\n",
    "    print(\"末端执行器位置（position）:\", position)\n",
    "    print(\"末端执行器旋转矩阵（rotation_matrix）:\\n\", rotation_matrix)\n",
    "except Exception as e:\n",
    "    print(\"Error accessing end_effector:\", e)\n",
    "\n",
    "# 从 MuJoCo 获取关节角度并计算正向运动学\n",
    "thetalist = data.qpos[:3]\n",
    "print(\"\\ntheta:\", thetalist)\n",
    "print(\"\\nKinematic position of end-effector in base frame: \")\n",
    "print(mr.FKinSpace(M, Blist, thetalist))"
   ]
  },
  {
   "cell_type": "code",
   "execution_count": 176,
   "metadata": {},
   "outputs": [
    {
     "name": "stdout",
     "output_type": "stream",
     "text": [
      "M [[ 0.   0.   1.   0.2]\n",
      " [ 0.   1.   0.   0. ]\n",
      " [-1.   0.   0.   0.1]\n",
      " [ 0.   0.   0.   1. ]] \n",
      "\n"
     ]
    },
    {
     "data": {
      "text/plain": [
       "array([[ 0.  ,  0.  ,  1.  ,  0.2 ],\n",
       "       [ 0.  ,  1.  ,  0.  , -0.  ],\n",
       "       [-1.  ,  0.  ,  0.  ,  0.76],\n",
       "       [ 0.  ,  0.  ,  0.  ,  1.  ]])"
      ]
     },
     "execution_count": 176,
     "metadata": {},
     "output_type": "execute_result"
    }
   ],
   "source": [
    "T = np.array(M)\n",
    "print(\"M\",T,'\\n')\n",
    "for i in range(len(thetalist)):\n",
    "    T = np.dot(mr.MatrixExp6(mr.VecTose3(np.array(Blist)[:, i] \\\n",
    "                                        * thetalist[i])),T)\n",
    "T"
   ]
  },
  {
   "cell_type": "code",
   "execution_count": null,
   "metadata": {},
   "outputs": [],
   "source": [
    "omg = mr.VecToso3([1, 0, 0])\n",
    "p = np.array([0.2, 0, 0.1])\n",
    "omg@p"
   ]
  },
  {
   "cell_type": "code",
   "execution_count": 148,
   "metadata": {},
   "outputs": [],
   "source": [
    "import math\n",
    "class Screw:\n",
    "\n",
    "    # 尺寸与方向\n",
    "    j1_axis = [0, 0, 1]\n",
    "    j1_xyz = [0, 0, 0.3]\n",
    "    j2_axis = [0, -1, 0]\n",
    "    j2_xyz = [0.2, 0, 0.3]\n",
    "    j3_axis = [1, 0, 0]\n",
    "    j3_xyz = [0.2, 0, 0.1]\n",
    "\n",
    "    # 单位速度螺旋\n",
    "    j1_screw = np.array([np.cross(j1_xyz, j1_axis), j1_axis])\n",
    "    j2_screw = np.array([np.cross(j2_xyz, j2_axis), j2_axis])\n",
    "    j3_screw = np.array([np.cross(j3_xyz, j3_axis), j3_axis])\n",
    "\n",
    "    # 末端起始位置\n",
    "    ee_init = np.array([[0, 0, 1, 0.2],\n",
    "                        [0, 1, 0, 0],\n",
    "                        [-1, 0, 0, 0.1],\n",
    "                        [0, 0, 0, 1]])\n",
    "\n",
    "\n",
    "    def from_screw_to_skew(self,screw):#反对称矩阵\n",
    "        axis = screw[1]\n",
    "        skew = [[0, -axis[2], axis[1]],\n",
    "                [axis[2], 0, -axis[0]],\n",
    "                [-axis[1], axis[0], 0]]\n",
    "        return skew\n",
    "\n",
    "    def from_screw_to_rotation_matrix(self,theta,screw):#选转矩阵\n",
    "        skew = np.array(self.from_screw_to_skew(screw))\n",
    "        rotation = np.eye(3) + math.sin(theta) * skew + (1 - math.cos(theta)) * skew @ skew\n",
    "        return rotation\n",
    "\n",
    "    def from_screw_to_translation_vector(self,theta,screw):#平移向量\n",
    "        skew = np.array(self.from_screw_to_skew(screw))\n",
    "        xyz_T = np.array([screw[0]]).T\n",
    "        axis = np.array([screw[1]])\n",
    "        axis_T = np.array([screw[1]]).T\n",
    "        rotation = np.array(self.from_screw_to_rotation_matrix(theta,screw))\n",
    "        translation = (np.eye(3) - rotation) @ skew @ xyz_T + theta * axis @ xyz_T * axis_T\n",
    "        return translation\n",
    "\n",
    "    def from_screw_to_homogeneous_transformation_matrix(self,theta,screw):#齐次变换矩阵\n",
    "        rotation = np.array(self.from_screw_to_rotation_matrix(theta, screw))\n",
    "        translation = np.array(self.from_screw_to_translation_vector(theta,screw))\n",
    "        # homogeneous 形式为 [[rotation,translation],\n",
    "        #                    [0,0,0,1]]\n",
    "        # 矩阵大小4*4\n",
    "        rotation_with_translation = np.hstack((rotation,translation))#水平堆叠\n",
    "        homogeneous = np.vstack((rotation_with_translation,np.array([0, 0, 0, 1])))#竖直堆叠\n",
    "        return homogeneous\n",
    "\n",
    "    def calculate_H_wrist(self,theta1,theta2,theta3):\n",
    "        H_wrist = self.from_screw_to_homogeneous_transformation_matrix(theta1, self.j1_screw) \\\n",
    "                  @ self.from_screw_to_homogeneous_transformation_matrix(theta2, self.j2_screw) \\\n",
    "                  @ self.from_screw_to_homogeneous_transformation_matrix(theta3, self.j3_screw)\n",
    "        return H_wrist\n",
    "\n",
    "    def calculate_H_wrist_end(self,theta1,theta2,theta3):\n",
    "        H_wrist_end = self.from_screw_to_homogeneous_transformation_matrix(theta1, self.j1_screw) \\\n",
    "                      @ self.from_screw_to_homogeneous_transformation_matrix(theta2, self.j2_screw) \\\n",
    "                      @ self.from_screw_to_homogeneous_transformation_matrix(theta3, self.j3_screw) @ self.ee_init\n",
    "        return H_wrist_end\n"
   ]
  },
  {
   "cell_type": "code",
   "execution_count": 172,
   "metadata": {},
   "outputs": [
    {
     "name": "stderr",
     "output_type": "stream",
     "text": [
      "/tmp/ipykernel_9848/3924151297.py:33: DeprecationWarning: Conversion of an array with ndim > 0 to a scalar is deprecated, and will error in future. Ensure you extract a single element from your array before performing this operation. (Deprecated NumPy 1.25.)\n",
      "  rotation = np.eye(3) + math.sin(theta) * skew + (1 - math.cos(theta)) * skew @ skew\n"
     ]
    },
    {
     "data": {
      "text/plain": [
       "array([[ 0.   , -0.613,  0.79 ,  0.158],\n",
       "       [ 0.   ,  0.79 ,  0.613,  0.123],\n",
       "       [-1.   ,  0.   ,  0.   ,  0.1  ],\n",
       "       [ 0.   ,  0.   ,  0.   ,  1.   ]])"
      ]
     },
     "execution_count": 172,
     "metadata": {},
     "output_type": "execute_result"
    }
   ],
   "source": [
    "theta1 = data.qpos[:1]\n",
    "theta2 = data.qpos[1:2] \n",
    "theta3 = data.qpos[2:3]\n",
    "screw = Screw()\n",
    "screw.calculate_H_wrist_end(theta1, theta2, theta3)"
   ]
  },
  {
   "cell_type": "code",
   "execution_count": 161,
   "metadata": {},
   "outputs": [
    {
     "data": {
      "text/plain": [
       "array([[0. , 0.1, 0. ],\n",
       "       [1. , 0. , 0. ]])"
      ]
     },
     "execution_count": 161,
     "metadata": {},
     "output_type": "execute_result"
    }
   ],
   "source": [
    "# 尺寸与方向\n",
    "j1_axis = [0, 0, 1]\n",
    "j1_xyz = [0, 0, 0.3]\n",
    "j2_axis = [0, -1, 0]\n",
    "j2_xyz = [0.2, 0, 0.3]\n",
    "j3_axis = [1, 0, 0]\n",
    "j3_xyz = [0.2, 0, 0.1]\n",
    "\n",
    "# 单位速度螺旋\n",
    "j1_screw = np.array([np.cross(j1_xyz, j1_axis), j1_axis])\n",
    "j2_screw = np.array([np.cross(j2_xyz, j2_axis), j2_axis])\n",
    "j3_screw = np.array([np.cross(j3_xyz, j3_axis), j3_axis])\n",
    "j1_screw\n",
    "j2_screw\n",
    "j3_screw"
   ]
  }
 ],
 "metadata": {
  "kernelspec": {
   "display_name": "mujoco_py",
   "language": "python",
   "name": "python3"
  },
  "language_info": {
   "codemirror_mode": {
    "name": "ipython",
    "version": 3
   },
   "file_extension": ".py",
   "mimetype": "text/x-python",
   "name": "python",
   "nbconvert_exporter": "python",
   "pygments_lexer": "ipython3",
   "version": "3.9.20"
  }
 },
 "nbformat": 4,
 "nbformat_minor": 2
}
