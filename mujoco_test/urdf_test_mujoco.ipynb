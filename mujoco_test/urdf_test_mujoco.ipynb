{
 "cells": [
  {
   "cell_type": "code",
   "execution_count": 56,
   "metadata": {},
   "outputs": [],
   "source": [
    "import numpy as np\n",
    "import mujoco\n",
    "import mujoco.viewer as viewer\n",
    "import modern_robotics as mr\n",
    "\n",
    "mjcf_path = 'ti5.xml'\n",
    "model = mujoco.MjModel.from_xml_path(mjcf_path)\n",
    "data = mujoco.MjData(model)\n",
    "\n",
    "mujoco.mj_resetDataKeyframe(model, data, 0)\n",
    "viewer.launch(model,data)"
   ]
  }
 ],
 "metadata": {
  "kernelspec": {
   "display_name": "mujoco_py",
   "language": "python",
   "name": "python3"
  },
  "language_info": {
   "codemirror_mode": {
    "name": "ipython",
    "version": 3
   },
   "file_extension": ".py",
   "mimetype": "text/x-python",
   "name": "python",
   "nbconvert_exporter": "python",
   "pygments_lexer": "ipython3",
   "version": "3.9.20"
  }
 },
 "nbformat": 4,
 "nbformat_minor": 2
}
